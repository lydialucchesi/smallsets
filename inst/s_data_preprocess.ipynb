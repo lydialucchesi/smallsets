{
 "cells": [
  {
   "cell_type": "code",
   "execution_count": null,
   "id": "c4d83973",
   "metadata": {},
   "outputs": [],
   "source": [
    "# smallsets snap s_data caption[Remove rows where C2\n",
    "# is FALSE.]caption\n",
    "s_data = s_data[s_data[\"C2\"] == True]"
   ]
  },
  {
   "cell_type": "code",
   "execution_count": null,
   "id": "c5ad80ee",
   "metadata": {},
   "outputs": [],
   "source": [
    "# smallsets snap +2 s_data caption[Replace missing values in C6 and\n",
    "# C8 with column means. Drop C7 because there are too many\n",
    "# missing values.]caption\n",
    "s_data[\"C6\"].fillna(value = s_data[\"C6\"].mean(), inplace = True)\n",
    "s_data[\"C8\"].fillna(value = s_data[\"C8\"].mean(), inplace = True)\n",
    "s_data = s_data.drop(columns = [\"C7\"])"
   ]
  },
  {
   "cell_type": "code",
   "execution_count": null,
   "id": "d9a98993",
   "metadata": {},
   "outputs": [],
   "source": [
    "# smallsets snap +1 s_data caption[Create a new column, \n",
    "# C9, by summing C3 and C4.]caption\n",
    "s_data[\"C9\"] = s_data[\"C3\"] + s_data[\"C4\"]"
   ]
  }
 ],
 "metadata": {
  "kernelspec": {
   "display_name": "Python 3 (ipykernel)",
   "language": "python",
   "name": "python3"
  },
  "language_info": {
   "codemirror_mode": {
    "name": "ipython",
    "version": 3
   },
   "file_extension": ".py",
   "mimetype": "text/x-python",
   "name": "python",
   "nbconvert_exporter": "python",
   "pygments_lexer": "ipython3",
   "version": "3.7.7"
  }
 },
 "nbformat": 4,
 "nbformat_minor": 5
}
